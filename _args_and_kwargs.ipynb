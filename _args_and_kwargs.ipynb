{
  "nbformat": 4,
  "nbformat_minor": 0,
  "metadata": {
    "colab": {
      "name": "*args and **kwargs.ipynb",
      "provenance": [],
      "authorship_tag": "ABX9TyM4cg434ztbmWSYH36H3ybp"
    },
    "kernelspec": {
      "name": "python3",
      "display_name": "Python 3"
    }
  },
  "cells": [
    {
      "cell_type": "markdown",
      "metadata": {
        "id": "WMoSxX9LrHKb",
        "colab_type": "text"
      },
      "source": [
        "# args and kwargs "
      ]
    },
    {
      "cell_type": "markdown",
      "metadata": {
        "id": "UG7Si_rftYWD",
        "colab_type": "text"
      },
      "source": [
        "Special Symbols Used for passing arguments:-\n",
        "\n",
        "1.)*args (Non-Keyword Arguments)\n",
        "\n",
        "2.)**kwargs (Keyword Arguments)"
      ]
    },
    {
      "cell_type": "markdown",
      "metadata": {
        "id": "dAEtj89dttAf",
        "colab_type": "text"
      },
      "source": [
        "1.) *args"
      ]
    },
    {
      "cell_type": "markdown",
      "metadata": {
        "id": "xZ3hFWABtzmP",
        "colab_type": "text"
      },
      "source": [
        "Let’s say you want to declare a function for summing numbers. There’s one problem with this function by default — it only accepts a fixed number of arguments. Sure, you can get around this by using only a single argument of type list — and that’s a viable alternative."
      ]
    },
    {
      "cell_type": "code",
      "metadata": {
        "id": "p529iTfqpUZs",
        "colab_type": "code",
        "colab": {
          "base_uri": "https://localhost:8080/",
          "height": 34
        },
        "outputId": "72a991f8-d6af-4ee2-ffdc-a2475268d60f"
      },
      "source": [
        "# we have your regular function for summing numbers, expecting a single argument of type list:\n",
        "def sum_numbers(numbers):\n",
        "   the_sum = 0\n",
        "   for number in numbers:\n",
        "       the_sum += number\n",
        "   return the_sum\n",
        "# We can use it to find the sum:\n",
        "numbers = [1, 2, 3, 4, 5]\n",
        "sum_numbers(numbers)"
      ],
      "execution_count": 3,
      "outputs": [
        {
          "output_type": "execute_result",
          "data": {
            "text/plain": [
              "15"
            ]
          },
          "metadata": {
            "tags": []
          },
          "execution_count": 3
        }
      ]
    },
    {
      "cell_type": "code",
      "metadata": {
        "id": "w6fcDEdFuz4U",
        "colab_type": "code",
        "colab": {
          "base_uri": "https://localhost:8080/",
          "height": 34
        },
        "outputId": "58f7fa7f-bb98-4784-e659-575aee143c64"
      },
      "source": [
        "# But what if you don’t want to use a list? *args to the rescue:\n",
        "def sum_numbers(*args):\n",
        "   the_sum = 0\n",
        "   for number in args:\n",
        "       the_sum += number\n",
        "   return the_sum\n",
        "sum_numbers(1, 2, 3)"
      ],
      "execution_count": 4,
      "outputs": [
        {
          "output_type": "execute_result",
          "data": {
            "text/plain": [
              "6"
            ]
          },
          "metadata": {
            "tags": []
          },
          "execution_count": 4
        }
      ]
    },
    {
      "cell_type": "code",
      "metadata": {
        "id": "6v43QI2Mwcyv",
        "colab_type": "code",
        "colab": {
          "base_uri": "https://localhost:8080/",
          "height": 85
        },
        "outputId": "e1233aa0-770f-46e8-a27c-4ba8a7084d5e"
      },
      "source": [
        "# *args with first extra argument\n",
        "def myFun(arg1, *argv):\n",
        "\tprint (\"First argument :\", arg1)\n",
        "\tfor arg in argv:\n",
        "\t\tprint(\"Next argument through *argv :\", arg)\n",
        "\n",
        "myFun('Hello', 'Welcome', 'to', 'Dwaraka')\n"
      ],
      "execution_count": 5,
      "outputs": [
        {
          "output_type": "stream",
          "text": [
            "First argument : Hello\n",
            "Next argument through *argv : Welcome\n",
            "Next argument through *argv : to\n",
            "Next argument through *argv : Dwaraka\n"
          ],
          "name": "stdout"
        }
      ]
    },
    {
      "cell_type": "markdown",
      "metadata": {
        "id": "7E4L_X4irFnd",
        "colab_type": "text"
      },
      "source": [
        "# List unpacking"
      ]
    },
    {
      "cell_type": "markdown",
      "metadata": {
        "id": "K8PxgiDtxvoC",
        "colab_type": "text"
      },
      "source": [
        "The idea of unpacking is to, well, unpack any iterable object. The single asterisk * is used to unpack any iterable, and the double-asterisk ** is used only for dictionaries."
      ]
    },
    {
      "cell_type": "code",
      "metadata": {
        "id": "oGXD7jfbxjQ_",
        "colab_type": "code",
        "colab": {}
      },
      "source": [
        "# Let’s say we have the following list:\n",
        "num_arr = [1, 2, 3, 4, 5]"
      ],
      "execution_count": 6,
      "outputs": []
    },
    {
      "cell_type": "code",
      "metadata": {
        "id": "Tp9ygiWzx8Rn",
        "colab_type": "code",
        "colab": {
          "base_uri": "https://localhost:8080/",
          "height": 34
        },
        "outputId": "48661b27-7fbb-4141-c6fc-9123f03926ea"
      },
      "source": [
        "# The process of unpacking it is straightforward — and already covered by our nifty sum_numbers() function:\n",
        "print(*num_arr)"
      ],
      "execution_count": 7,
      "outputs": [
        {
          "output_type": "stream",
          "text": [
            "1 2 3 4 5\n"
          ],
          "name": "stdout"
        }
      ]
    },
    {
      "cell_type": "markdown",
      "metadata": {
        "id": "oj-mfwf3yKe7",
        "colab_type": "text"
      },
      "source": [
        "# List concatenation\n",
        "Another useable aspect of *args is list concatenation."
      ]
    },
    {
      "cell_type": "code",
      "metadata": {
        "id": "pXUZf-Fzx9__",
        "colab_type": "code",
        "colab": {
          "base_uri": "https://localhost:8080/",
          "height": 34
        },
        "outputId": "0be9f037-1dcb-4527-b530-fe3bd4142754"
      },
      "source": [
        "# Let’s say we have two lists:\n",
        "nums1 = [1, 2, 3]\n",
        "nums2 = [4, 5, 6]\n",
        "nums = [*nums1, *nums2]\n",
        "nums"
      ],
      "execution_count": 8,
      "outputs": [
        {
          "output_type": "execute_result",
          "data": {
            "text/plain": [
              "[1, 2, 3, 4, 5, 6]"
            ]
          },
          "metadata": {
            "tags": []
          },
          "execution_count": 8
        }
      ]
    },
    {
      "cell_type": "markdown",
      "metadata": {
        "id": "n2AaoUamy1zN",
        "colab_type": "text"
      },
      "source": [
        "# **kwargs\n",
        "As mentioned earlier, **kwargs are used to unpack dictionaries. Without much ado, let’s see how one would use them"
      ]
    },
    {
      "cell_type": "markdown",
      "metadata": {
        "id": "sIppJWAVzIVV",
        "colab_type": "text"
      },
      "source": [
        "For this simple example, let’s say you want to multiply 3 numbers, but those come from some external source and are stored as key-value pairs. The keys are always identical (obviously), but the values change."
      ]
    },
    {
      "cell_type": "code",
      "metadata": {
        "id": "lzlOw4EVyk7u",
        "colab_type": "code",
        "colab": {}
      },
      "source": [
        "def multiply(a, b, c):\n",
        "    return a * b * c"
      ],
      "execution_count": 10,
      "outputs": []
    },
    {
      "cell_type": "code",
      "metadata": {
        "id": "A_6MMlWQznbO",
        "colab_type": "code",
        "colab": {
          "base_uri": "https://localhost:8080/",
          "height": 34
        },
        "outputId": "29f5402c-8409-49ab-dc92-b02e4e0bcea3"
      },
      "source": [
        "d = {'a':2,'b':4,'c':8}\n",
        "multiply(**d)"
      ],
      "execution_count": 21,
      "outputs": [
        {
          "output_type": "execute_result",
          "data": {
            "text/plain": [
              "64"
            ]
          },
          "metadata": {
            "tags": []
          },
          "execution_count": 21
        }
      ]
    },
    {
      "cell_type": "markdown",
      "metadata": {
        "id": "DOfgAwGz1hPv",
        "colab_type": "text"
      },
      "source": [
        "# Dictionary Concatination"
      ]
    },
    {
      "cell_type": "code",
      "metadata": {
        "id": "ajYcTJi81gRM",
        "colab_type": "code",
        "colab": {
          "base_uri": "https://localhost:8080/",
          "height": 34
        },
        "outputId": "6fbee376-968a-4b97-9c43-5d9339f8a525"
      },
      "source": [
        "# Let's say we have two dictionaries\n",
        "d1 = {'a' : 1,'b' : 2,'c':3}\n",
        "d2 = {'d' : 4,'e' : 5}\n",
        "d3 = {**d1,**d2}\n",
        "print(d3)\n"
      ],
      "execution_count": 24,
      "outputs": [
        {
          "output_type": "stream",
          "text": [
            "{'a': 1, 'b': 2, 'c': 3, 'd': 4, 'e': 5}\n"
          ],
          "name": "stdout"
        }
      ]
    },
    {
      "cell_type": "code",
      "metadata": {
        "id": "pMNOGj2w2Fh4",
        "colab_type": "code",
        "colab": {}
      },
      "source": [
        ""
      ],
      "execution_count": null,
      "outputs": []
    }
  ]
}